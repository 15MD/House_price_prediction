{
 "cells": [
  {
   "cell_type": "code",
   "execution_count": 33,
   "metadata": {},
   "outputs": [
    {
     "ename": "ModuleNotFoundError",
     "evalue": "No module named 'sklearn.cross_validation'",
     "output_type": "error",
     "traceback": [
      "\u001b[0;31m---------------------------------------------------------------------------\u001b[0m",
      "\u001b[0;31mModuleNotFoundError\u001b[0m                       Traceback (most recent call last)",
      "\u001b[0;32m<ipython-input-33-55f8f19916a8>\u001b[0m in \u001b[0;36m<module>\u001b[0;34m\u001b[0m\n\u001b[1;32m      1\u001b[0m \u001b[0;32mimport\u001b[0m \u001b[0mpandas\u001b[0m \u001b[0;32mas\u001b[0m \u001b[0mpd\u001b[0m\u001b[0;34m\u001b[0m\u001b[0;34m\u001b[0m\u001b[0m\n\u001b[0;32m----> 2\u001b[0;31m \u001b[0;32mfrom\u001b[0m \u001b[0msklearn\u001b[0m\u001b[0;34m.\u001b[0m\u001b[0mcross_validation\u001b[0m \u001b[0;32mimport\u001b[0m \u001b[0mtrain_test_split\u001b[0m\u001b[0;34m\u001b[0m\u001b[0;34m\u001b[0m\u001b[0m\n\u001b[0m\u001b[1;32m      3\u001b[0m \u001b[0;32mimport\u001b[0m \u001b[0mnumpy\u001b[0m \u001b[0;32mas\u001b[0m \u001b[0mnp\u001b[0m\u001b[0;34m\u001b[0m\u001b[0;34m\u001b[0m\u001b[0m\n\u001b[1;32m      4\u001b[0m \u001b[0;32mimport\u001b[0m \u001b[0mmatplotlib\u001b[0m\u001b[0;34m.\u001b[0m\u001b[0mpyplot\u001b[0m \u001b[0;32mas\u001b[0m \u001b[0mplt\u001b[0m\u001b[0;34m\u001b[0m\u001b[0;34m\u001b[0m\u001b[0m\n\u001b[1;32m      5\u001b[0m \u001b[0mget_ipython\u001b[0m\u001b[0;34m(\u001b[0m\u001b[0;34m)\u001b[0m\u001b[0;34m.\u001b[0m\u001b[0mrun_line_magic\u001b[0m\u001b[0;34m(\u001b[0m\u001b[0;34m'matplotlib'\u001b[0m\u001b[0;34m,\u001b[0m \u001b[0;34m'inline'\u001b[0m\u001b[0;34m)\u001b[0m\u001b[0;34m\u001b[0m\u001b[0;34m\u001b[0m\u001b[0m\n",
      "\u001b[0;31mModuleNotFoundError\u001b[0m: No module named 'sklearn.cross_validation'"
     ]
    }
   ],
   "source": [
    "import pandas as pd\n",
    "from sklearn.cross_validation import train_test_split\n",
    "import numpy as np\n",
    "import matplotlib.pyplot as plt\n",
    "%matplotlib inline\n",
    "import seaborn as sns\n",
    "sns.set() # setting seaborn default for plots"
   ]
  },
  {
   "cell_type": "code",
   "execution_count": 7,
   "metadata": {},
   "outputs": [],
   "source": [
    "train = pd.read_csv('/home/mohit/Music/Kaggal/house-prices-advanced-regression-techniques/train.csv')\n",
    "test = pd.read_csv('/home/mohit/Music/Kaggal/house-prices-advanced-regression-techniques/test.csv')"
   ]
  },
  {
   "cell_type": "code",
   "execution_count": 8,
   "metadata": {},
   "outputs": [
    {
     "data": {
      "text/plain": [
       "(1460, 81)"
      ]
     },
     "execution_count": 8,
     "metadata": {},
     "output_type": "execute_result"
    }
   ],
   "source": [
    "train.shape"
   ]
  },
  {
   "cell_type": "code",
   "execution_count": 9,
   "metadata": {},
   "outputs": [
    {
     "data": {
      "text/plain": [
       "(1459, 80)"
      ]
     },
     "execution_count": 9,
     "metadata": {},
     "output_type": "execute_result"
    }
   ],
   "source": [
    "test.shape"
   ]
  },
  {
   "cell_type": "code",
   "execution_count": 10,
   "metadata": {},
   "outputs": [],
   "source": [
    "plt.style.use(style='ggplot')\n",
    "plt.rcParams[\"figure.figsize\"]=(10,8)"
   ]
  },
  {
   "cell_type": "code",
   "execution_count": 11,
   "metadata": {},
   "outputs": [
    {
     "data": {
      "text/plain": [
       "1.8828757597682129"
      ]
     },
     "execution_count": 11,
     "metadata": {},
     "output_type": "execute_result"
    }
   ],
   "source": [
    "train.SalePrice.skew()"
   ]
  },
  {
   "cell_type": "code",
   "execution_count": 12,
   "metadata": {},
   "outputs": [
    {
     "data": {
      "text/plain": [
       "(array([148., 723., 373., 135.,  51.,  19.,   4.,   3.,   2.,   2.]),\n",
       " array([ 34900., 106910., 178920., 250930., 322940., 394950., 466960.,\n",
       "        538970., 610980., 682990., 755000.]),\n",
       " <a list of 10 Patch objects>)"
      ]
     },
     "execution_count": 12,
     "metadata": {},
     "output_type": "execute_result"
    },
    {
     "data": {
      "image/png": "[encoded data removed]",
      "text/plain": [
       "<Figure size 720x576 with 1 Axes>"
      ]
     },
     "metadata": {},
     "output_type": "display_data"
    }
   ],
   "source": [
    "plt.hist(train.SalePrice,color='blue')"
   ]
  },
  {
   "cell_type": "code",
   "execution_count": 13,
   "metadata": {},
   "outputs": [
    {
     "name": "stdout",
     "output_type": "stream",
     "text": [
      "\n",
      " Skew is : 0.12133506220520406\n"
     ]
    },
    {
     "data": {
      "text/plain": [
       "(array([  5.,  12.,  54., 184., 470., 400., 220.,  90.,  19.,   6.]),\n",
       " array([10.46024211, 10.7676652 , 11.07508829, 11.38251138, 11.68993448,\n",
       "        11.99735757, 12.30478066, 12.61220375, 12.91962684, 13.22704994,\n",
       "        13.53447303]),\n",
       " <a list of 10 Patch objects>)"
      ]
     },
     "execution_count": 13,
     "metadata": {},
     "output_type": "execute_result"
    },
    {
     "data": {
      "image/png": "[encoded data removed]",
      "text/plain": [
       "<Figure size 720x576 with 1 Axes>"
      ]
     },
     "metadata": {},
     "output_type": "display_data"
    }
   ],
   "source": [
    "target=np.log(train.SalePrice)\n",
    "print(\"\\n Skew is :\",target.skew())\n",
    "plt.hist(target,color='blue')"
   ]
  },
  {
   "cell_type": "code",
   "execution_count": 14,
   "metadata": {},
   "outputs": [],
   "source": [
    "numeric_features=train.select_dtypes(include=[np.number])"
   ]
  },
  {
   "cell_type": "code",
   "execution_count": 15,
   "metadata": {},
   "outputs": [],
   "source": [
    "corr=numeric_features.corr()"
   ]
  },
  {
   "cell_type": "code",
   "execution_count": 16,
   "metadata": {},
   "outputs": [
    {
     "name": "stdout",
     "output_type": "stream",
     "text": [
      "                     Id  MSSubClass  LotFrontage   LotArea  OverallQual  \\\n",
      "Id             1.000000    0.011156    -0.010601 -0.033226    -0.028365   \n",
      "MSSubClass     0.011156    1.000000    -0.386347 -0.139781     0.032628   \n",
      "LotFrontage   -0.010601   -0.386347     1.000000  0.426095     0.251646   \n",
      "LotArea       -0.033226   -0.139781     0.426095  1.000000     0.105806   \n",
      "OverallQual   -0.028365    0.032628     0.251646  0.105806     1.000000   \n",
      "OverallCond    0.012609   -0.059316    -0.059213 -0.005636    -0.091932   \n",
      "YearBuilt     -0.012713    0.027850     0.123349  0.014228     0.572323   \n",
      "YearRemodAdd  -0.021998    0.040581     0.088866  0.013788     0.550684   \n",
      "MasVnrArea    -0.050298    0.022936     0.193458  0.104160     0.411876   \n",
      "BsmtFinSF1    -0.005024   -0.069836     0.233633  0.214103     0.239666   \n",
      "BsmtFinSF2    -0.005968   -0.065649     0.049900  0.111170    -0.059119   \n",
      "BsmtUnfSF     -0.007940   -0.140759     0.132644 -0.002618     0.308159   \n",
      "TotalBsmtSF   -0.015415   -0.238518     0.392075  0.260833     0.537808   \n",
      "1stFlrSF       0.010496   -0.251758     0.457181  0.299475     0.476224   \n",
      "2ndFlrSF       0.005590    0.307886     0.080177  0.050986     0.295493   \n",
      "LowQualFinSF  -0.044230    0.046474     0.038469  0.004779    -0.030429   \n",
      "GrLivArea      0.008273    0.074853     0.402797  0.263116     0.593007   \n",
      "BsmtFullBath   0.002289    0.003491     0.100949  0.158155     0.111098   \n",
      "BsmtHalfBath  -0.020155   -0.002333    -0.007234  0.048046    -0.040150   \n",
      "FullBath       0.005587    0.131608     0.198769  0.126031     0.550600   \n",
      "HalfBath       0.006784    0.177354     0.053532  0.014259     0.273458   \n",
      "BedroomAbvGr   0.037719   -0.023438     0.263170  0.119690     0.101676   \n",
      "KitchenAbvGr   0.002951    0.281721    -0.006069 -0.017784    -0.183882   \n",
      "TotRmsAbvGrd   0.027239    0.040380     0.352096  0.190015     0.427452   \n",
      "Fireplaces    -0.019772   -0.045569     0.266639  0.271364     0.396765   \n",
      "GarageYrBlt    0.000072    0.085072     0.070250 -0.024947     0.547766   \n",
      "GarageCars     0.016570   -0.040110     0.285691  0.154871     0.600671   \n",
      "GarageArea     0.017634   -0.098672     0.344997  0.180403     0.562022   \n",
      "WoodDeckSF    -0.029643   -0.012579     0.088521  0.171698     0.238923   \n",
      "OpenPorchSF   -0.000477   -0.006100     0.151972  0.084774     0.308819   \n",
      "EnclosedPorch  0.002889   -0.012037     0.010700 -0.018340    -0.113937   \n",
      "3SsnPorch     -0.046635   -0.043825     0.070029  0.020423     0.030371   \n",
      "ScreenPorch    0.001330   -0.026030     0.041383  0.043160     0.064886   \n",
      "PoolArea       0.057044    0.008283     0.206167  0.077672     0.065166   \n",
      "MiscVal       -0.006242   -0.007683     0.003368  0.038068    -0.031406   \n",
      "MoSold         0.021172   -0.013585     0.011200  0.001205     0.070815   \n",
      "YrSold         0.000712   -0.021407     0.007450 -0.014261    -0.027347   \n",
      "SalePrice     -0.021917   -0.084284     0.351799  0.263843     0.790982   \n",
      "\n",
      "               OverallCond  YearBuilt  YearRemodAdd  MasVnrArea  BsmtFinSF1  \\\n",
      "Id                0.012609  -0.012713     -0.021998   -0.050298   -0.005024   \n",
      "MSSubClass       -0.059316   0.027850      0.040581    0.022936   -0.069836   \n",
      "LotFrontage      -0.059213   0.123349      0.088866    0.193458    0.233633   \n",
      "LotArea          -0.005636   0.014228      0.013788    0.104160    0.214103   \n",
      "OverallQual      -0.091932   0.572323      0.550684    0.411876    0.239666   \n",
      "OverallCond       1.000000  -0.375983      0.073741   -0.128101   -0.046231   \n",
      "YearBuilt        -0.375983   1.000000      0.592855    0.315707    0.249503   \n",
      "YearRemodAdd      0.073741   0.592855      1.000000    0.179618    0.128451   \n",
      "MasVnrArea       -0.128101   0.315707      0.179618    1.000000    0.264736   \n",
      "BsmtFinSF1       -0.046231   0.249503      0.128451    0.264736    1.000000   \n",
      "BsmtFinSF2        0.040229  -0.049107     -0.067759   -0.072319   -0.050117   \n",
      "BsmtUnfSF        -0.136841   0.149040      0.181133    0.114442   -0.495251   \n",
      "TotalBsmtSF      -0.171098   0.391452      0.291066    0.363936    0.522396   \n",
      "1stFlrSF         -0.144203   0.281986      0.240379    0.344501    0.445863   \n",
      "2ndFlrSF          0.028942   0.010308      0.140024    0.174561   -0.137079   \n",
      "LowQualFinSF      0.025494  -0.183784     -0.062419   -0.069071   -0.064503   \n",
      "GrLivArea        -0.079686   0.199010      0.287389    0.390857    0.208171   \n",
      "BsmtFullBath     -0.054942   0.187599      0.119470    0.085310    0.649212   \n",
      "BsmtHalfBath      0.117821  -0.038162     -0.012337    0.026673    0.067418   \n",
      "FullBath         -0.194149   0.468271      0.439046    0.276833    0.058543   \n",
      "HalfBath         -0.060769   0.242656      0.183331    0.201444    0.004262   \n",
      "BedroomAbvGr      0.012980  -0.070651     -0.040581    0.102821   -0.107355   \n",
      "KitchenAbvGr     -0.087001  -0.174800     -0.149598   -0.037610   -0.081007   \n",
      "TotRmsAbvGrd     -0.057583   0.095589      0.191740    0.280682    0.044316   \n",
      "Fireplaces       -0.023820   0.147716      0.112581    0.249070    0.260011   \n",
      "GarageYrBlt      -0.324297   0.825667      0.642277    0.252691    0.153484   \n",
      "GarageCars       -0.185758   0.537850      0.420622    0.364204    0.224054   \n",
      "GarageArea       -0.151521   0.478954      0.371600    0.373066    0.296970   \n",
      "WoodDeckSF       -0.003334   0.224880      0.205726    0.159718    0.204306   \n",
      "OpenPorchSF      -0.032589   0.188686      0.226298    0.125703    0.111761   \n",
      "EnclosedPorch     0.070356  -0.387268     -0.193919   -0.110204   -0.102303   \n",
      "3SsnPorch         0.025504   0.031355      0.045286    0.018796    0.026451   \n",
      "ScreenPorch       0.054811  -0.050364     -0.038740    0.061466    0.062021   \n",
      "PoolArea         -0.001985   0.004950      0.005829    0.011723    0.140491   \n",
      "MiscVal           0.068777  -0.034383     -0.010286   -0.029815    0.003571   \n",
      "MoSold           -0.003511   0.012398      0.021490   -0.005965   -0.015727   \n",
      "YrSold            0.043950  -0.013618      0.035743   -0.008201    0.014359   \n",
      "SalePrice        -0.077856   0.522897      0.507101    0.477493    0.386420   \n",
      "\n",
      "               ...  WoodDeckSF  OpenPorchSF  EnclosedPorch  3SsnPorch  \\\n",
      "Id             ...   -0.029643    -0.000477       0.002889  -0.046635   \n",
      "MSSubClass     ...   -0.012579    -0.006100      -0.012037  -0.043825   \n",
      "LotFrontage    ...    0.088521     0.151972       0.010700   0.070029   \n",
      "LotArea        ...    0.171698     0.084774      -0.018340   0.020423   \n",
      "OverallQual    ...    0.238923     0.308819      -0.113937   0.030371   \n",
      "OverallCond    ...   -0.003334    -0.032589       0.070356   0.025504   \n",
      "YearBuilt      ...    0.224880     0.188686      -0.387268   0.031355   \n",
      "YearRemodAdd   ...    0.205726     0.226298      -0.193919   0.045286   \n",
      "MasVnrArea     ...    0.159718     0.125703      -0.110204   0.018796   \n",
      "BsmtFinSF1     ...    0.204306     0.111761      -0.102303   0.026451   \n",
      "BsmtFinSF2     ...    0.067898     0.003093       0.036543  -0.029993   \n",
      "BsmtUnfSF      ...   -0.005316     0.129005      -0.002538   0.020764   \n",
      "TotalBsmtSF    ...    0.232019     0.247264      -0.095478   0.037384   \n",
      "1stFlrSF       ...    0.235459     0.211671      -0.065292   0.056104   \n",
      "2ndFlrSF       ...    0.092165     0.208026       0.061989  -0.024358   \n",
      "LowQualFinSF   ...   -0.025444     0.018251       0.061081  -0.004296   \n",
      "GrLivArea      ...    0.247433     0.330224       0.009113   0.020643   \n",
      "BsmtFullBath   ...    0.175315     0.067341      -0.049911  -0.000106   \n",
      "BsmtHalfBath   ...    0.040161    -0.025324      -0.008555   0.035114   \n",
      "FullBath       ...    0.187703     0.259977      -0.115093   0.035353   \n",
      "HalfBath       ...    0.108080     0.199740      -0.095317  -0.004972   \n",
      "BedroomAbvGr   ...    0.046854     0.093810       0.041570  -0.024478   \n",
      "KitchenAbvGr   ...   -0.090130    -0.070091       0.037312  -0.024600   \n",
      "TotRmsAbvGrd   ...    0.165984     0.234192       0.004151  -0.006683   \n",
      "Fireplaces     ...    0.200019     0.169405      -0.024822   0.011257   \n",
      "GarageYrBlt    ...    0.224577     0.228425      -0.297003   0.023544   \n",
      "GarageCars     ...    0.226342     0.213569      -0.151434   0.035765   \n",
      "GarageArea     ...    0.224666     0.241435      -0.121777   0.035087   \n",
      "WoodDeckSF     ...    1.000000     0.058661      -0.125989  -0.032771   \n",
      "OpenPorchSF    ...    0.058661     1.000000      -0.093079  -0.005842   \n",
      "EnclosedPorch  ...   -0.125989    -0.093079       1.000000  -0.037305   \n",
      "3SsnPorch      ...   -0.032771    -0.005842      -0.037305   1.000000   \n",
      "ScreenPorch    ...   -0.074181     0.074304      -0.082864  -0.031436   \n",
      "PoolArea       ...    0.073378     0.060762       0.054203  -0.007992   \n",
      "MiscVal        ...   -0.009551    -0.018584       0.018361   0.000354   \n",
      "MoSold         ...    0.021011     0.071255      -0.028887   0.029474   \n",
      "YrSold         ...    0.022270    -0.057619      -0.009916   0.018645   \n",
      "SalePrice      ...    0.324413     0.315856      -0.128578   0.044584   \n",
      "\n",
      "               ScreenPorch  PoolArea   MiscVal    MoSold    YrSold  SalePrice  \n",
      "Id                0.001330  0.057044 -0.006242  0.021172  0.000712  -0.021917  \n",
      "MSSubClass       -0.026030  0.008283 -0.007683 -0.013585 -0.021407  -0.084284  \n",
      "LotFrontage       0.041383  0.206167  0.003368  0.011200  0.007450   0.351799  \n",
      "LotArea           0.043160  0.077672  0.038068  0.001205 -0.014261   0.263843  \n",
      "OverallQual       0.064886  0.065166 -0.031406  0.070815 -0.027347   0.790982  \n",
      "OverallCond       0.054811 -0.001985  0.068777 -0.003511  0.043950  -0.077856  \n",
      "YearBuilt        -0.050364  0.004950 -0.034383  0.012398 -0.013618   0.522897  \n",
      "YearRemodAdd     -0.038740  0.005829 -0.010286  0.021490  0.035743   0.507101  \n",
      "MasVnrArea        0.061466  0.011723 -0.029815 -0.005965 -0.008201   0.477493  \n",
      "BsmtFinSF1        0.062021  0.140491  0.003571 -0.015727  0.014359   0.386420  \n",
      "BsmtFinSF2        0.088871  0.041709  0.004940 -0.015211  0.031706  -0.011378  \n",
      "BsmtUnfSF        -0.012579 -0.035092 -0.023837  0.034888 -0.041258   0.214479  \n",
      "TotalBsmtSF       0.084489  0.126053 -0.018479  0.013196 -0.014969   0.613581  \n",
      "1stFlrSF          0.088758  0.131525 -0.021096  0.031372 -0.013604   0.605852  \n",
      "2ndFlrSF          0.040606  0.081487  0.016197  0.035164 -0.028700   0.319334  \n",
      "LowQualFinSF      0.026799  0.062157 -0.003793 -0.022174 -0.028921  -0.025606  \n",
      "GrLivArea         0.101510  0.170205 -0.002416  0.050240 -0.036526   0.708624  \n",
      "BsmtFullBath      0.023148  0.067616 -0.023047 -0.025361  0.067049   0.227122  \n",
      "BsmtHalfBath      0.032121  0.020025 -0.007367  0.032873 -0.046524  -0.016844  \n",
      "FullBath         -0.008106  0.049604 -0.014290  0.055872 -0.019669   0.560664  \n",
      "HalfBath          0.072426  0.022381  0.001290 -0.009050 -0.010269   0.284108  \n",
      "BedroomAbvGr      0.044300  0.070703  0.007767  0.046544 -0.036014   0.168213  \n",
      "KitchenAbvGr     -0.051613 -0.014525  0.062341  0.026589  0.031687  -0.135907  \n",
      "TotRmsAbvGrd      0.059383  0.083757  0.024763  0.036907 -0.034516   0.533723  \n",
      "Fireplaces        0.184530  0.095074  0.001409  0.046357 -0.024096   0.466929  \n",
      "GarageYrBlt      -0.075418 -0.014501 -0.032417  0.005337 -0.001014   0.486362  \n",
      "GarageCars        0.050494  0.020934 -0.043080  0.040522 -0.039117   0.640409  \n",
      "GarageArea        0.051412  0.061047 -0.027400  0.027974 -0.027378   0.623431  \n",
      "WoodDeckSF       -0.074181  0.073378 -0.009551  0.021011  0.022270   0.324413  \n",
      "OpenPorchSF       0.074304  0.060762 -0.018584  0.071255 -0.057619   0.315856  \n",
      "EnclosedPorch    -0.082864  0.054203  0.018361 -0.028887 -0.009916  -0.128578  \n",
      "3SsnPorch        -0.031436 -0.007992  0.000354  0.029474  0.018645   0.044584  \n",
      "ScreenPorch       1.000000  0.051307  0.031946  0.023217  0.010694   0.111447  \n",
      "PoolArea          0.051307  1.000000  0.029669 -0.033737 -0.059689   0.092404  \n",
      "MiscVal           0.031946  0.029669  1.000000 -0.006495  0.004906  -0.021190  \n",
      "MoSold            0.023217 -0.033737 -0.006495  1.000000 -0.145721   0.046432  \n",
      "YrSold            0.010694 -0.059689  0.004906 -0.145721  1.000000  -0.028923  \n",
      "SalePrice         0.111447  0.092404 -0.021190  0.046432 -0.028923   1.000000  \n",
      "\n",
      "[38 rows x 38 columns]\n"
     ]
    }
   ],
   "source": [
    "print(corr)"
   ]
  },
  {
   "cell_type": "code",
   "execution_count": 17,
   "metadata": {},
   "outputs": [
    {
     "name": "stdout",
     "output_type": "stream",
     "text": [
      "SalePrice       1.000000\n",
      "OverallQual     0.790982\n",
      "GrLivArea       0.708624\n",
      "GarageCars      0.640409\n",
      "GarageArea      0.623431\n",
      "TotalBsmtSF     0.613581\n",
      "1stFlrSF        0.605852\n",
      "FullBath        0.560664\n",
      "TotRmsAbvGrd    0.533723\n",
      "YearBuilt       0.522897\n",
      "Name: SalePrice, dtype: float64\n"
     ]
    }
   ],
   "source": [
    "print(corr['SalePrice'].sort_values(ascending=False)[:10])\n"
   ]
  },
  {
   "cell_type": "code",
   "execution_count": 18,
   "metadata": {},
   "outputs": [
    {
     "data": {
      "image/png": "[encoded data removed]",
      "text/plain": [
       "<Figure size 720x576 with 1 Axes>"
      ]
     },
     "metadata": {},
     "output_type": "display_data"
    }
   ],
   "source": [
    "plt.scatter(x=train['GarageArea'],y=target)\n",
    "plt.xlabel('SalePrice')\n",
    "plt.ylabel('GarageArea')\n",
    "plt.show()"
   ]
  },
  {
   "cell_type": "code",
   "execution_count": 19,
   "metadata": {},
   "outputs": [],
   "source": [
    "train=train[train['GarageArea']<1200]"
   ]
  },
  {
   "cell_type": "code",
   "execution_count": 21,
   "metadata": {},
   "outputs": [],
   "source": [
    "categorical=train.select_dtypes(exclude=np.number)"
   ]
  },
  {
   "cell_type": "code",
   "execution_count": 24,
   "metadata": {},
   "outputs": [
    {
     "data": {
      "text/html": [
       "<div>\n",
       "<style scoped>\n",
       "    .dataframe tbody tr th:only-of-type {\n",
       "        vertical-align: middle;\n",
       "    }\n",
       "\n",
       "    .dataframe tbody tr th {\n",
       "        vertical-align: top;\n",
       "    }\n",
       "\n",
       "    .dataframe thead th {\n",
       "        text-align: right;\n",
       "    }\n",
       "</style>\n",
       "<table border=\"1\" class=\"dataframe\">\n",
       "  <thead>\n",
       "    <tr style=\"text-align: right;\">\n",
       "      <th></th>\n",
       "      <th>MSZoning</th>\n",
       "      <th>Street</th>\n",
       "      <th>Alley</th>\n",
       "      <th>LotShape</th>\n",
       "      <th>LandContour</th>\n",
       "      <th>Utilities</th>\n",
       "      <th>LotConfig</th>\n",
       "      <th>LandSlope</th>\n",
       "      <th>Neighborhood</th>\n",
       "      <th>Condition1</th>\n",
       "      <th>...</th>\n",
       "      <th>GarageType</th>\n",
       "      <th>GarageFinish</th>\n",
       "      <th>GarageQual</th>\n",
       "      <th>GarageCond</th>\n",
       "      <th>PavedDrive</th>\n",
       "      <th>PoolQC</th>\n",
       "      <th>Fence</th>\n",
       "      <th>MiscFeature</th>\n",
       "      <th>SaleType</th>\n",
       "      <th>SaleCondition</th>\n",
       "    </tr>\n",
       "  </thead>\n",
       "  <tbody>\n",
       "    <tr>\n",
       "      <th>count</th>\n",
       "      <td>1455</td>\n",
       "      <td>1455</td>\n",
       "      <td>91</td>\n",
       "      <td>1455</td>\n",
       "      <td>1455</td>\n",
       "      <td>1455</td>\n",
       "      <td>1455</td>\n",
       "      <td>1455</td>\n",
       "      <td>1455</td>\n",
       "      <td>1455</td>\n",
       "      <td>...</td>\n",
       "      <td>1374</td>\n",
       "      <td>1374</td>\n",
       "      <td>1374</td>\n",
       "      <td>1374</td>\n",
       "      <td>1455</td>\n",
       "      <td>6</td>\n",
       "      <td>281</td>\n",
       "      <td>53</td>\n",
       "      <td>1455</td>\n",
       "      <td>1455</td>\n",
       "    </tr>\n",
       "    <tr>\n",
       "      <th>unique</th>\n",
       "      <td>5</td>\n",
       "      <td>2</td>\n",
       "      <td>2</td>\n",
       "      <td>4</td>\n",
       "      <td>4</td>\n",
       "      <td>2</td>\n",
       "      <td>5</td>\n",
       "      <td>3</td>\n",
       "      <td>25</td>\n",
       "      <td>9</td>\n",
       "      <td>...</td>\n",
       "      <td>6</td>\n",
       "      <td>3</td>\n",
       "      <td>5</td>\n",
       "      <td>5</td>\n",
       "      <td>3</td>\n",
       "      <td>3</td>\n",
       "      <td>4</td>\n",
       "      <td>4</td>\n",
       "      <td>9</td>\n",
       "      <td>6</td>\n",
       "    </tr>\n",
       "    <tr>\n",
       "      <th>top</th>\n",
       "      <td>RL</td>\n",
       "      <td>Pave</td>\n",
       "      <td>Grvl</td>\n",
       "      <td>Reg</td>\n",
       "      <td>Lvl</td>\n",
       "      <td>AllPub</td>\n",
       "      <td>Inside</td>\n",
       "      <td>Gtl</td>\n",
       "      <td>NAmes</td>\n",
       "      <td>Norm</td>\n",
       "      <td>...</td>\n",
       "      <td>Attchd</td>\n",
       "      <td>Unf</td>\n",
       "      <td>TA</td>\n",
       "      <td>TA</td>\n",
       "      <td>Y</td>\n",
       "      <td>Fa</td>\n",
       "      <td>MnPrv</td>\n",
       "      <td>Shed</td>\n",
       "      <td>WD</td>\n",
       "      <td>Normal</td>\n",
       "    </tr>\n",
       "    <tr>\n",
       "      <th>freq</th>\n",
       "      <td>1147</td>\n",
       "      <td>1450</td>\n",
       "      <td>50</td>\n",
       "      <td>921</td>\n",
       "      <td>1309</td>\n",
       "      <td>1454</td>\n",
       "      <td>1048</td>\n",
       "      <td>1378</td>\n",
       "      <td>225</td>\n",
       "      <td>1257</td>\n",
       "      <td>...</td>\n",
       "      <td>867</td>\n",
       "      <td>605</td>\n",
       "      <td>1306</td>\n",
       "      <td>1321</td>\n",
       "      <td>1335</td>\n",
       "      <td>2</td>\n",
       "      <td>157</td>\n",
       "      <td>48</td>\n",
       "      <td>1266</td>\n",
       "      <td>1196</td>\n",
       "    </tr>\n",
       "  </tbody>\n",
       "</table>\n",
       "<p>4 rows × 43 columns</p>\n",
       "</div>"
      ],
      "text/plain": [
       "       MSZoning Street Alley LotShape LandContour Utilities LotConfig  \\\n",
       "count      1455   1455    91     1455        1455      1455      1455   \n",
       "unique        5      2     2        4           4         2         5   \n",
       "top          RL   Pave  Grvl      Reg         Lvl    AllPub    Inside   \n",
       "freq       1147   1450    50      921        1309      1454      1048   \n",
       "\n",
       "       LandSlope Neighborhood Condition1  ... GarageType GarageFinish  \\\n",
       "count       1455         1455       1455  ...       1374         1374   \n",
       "unique         3           25          9  ...          6            3   \n",
       "top          Gtl        NAmes       Norm  ...     Attchd          Unf   \n",
       "freq        1378          225       1257  ...        867          605   \n",
       "\n",
       "       GarageQual GarageCond PavedDrive PoolQC  Fence MiscFeature SaleType  \\\n",
       "count        1374       1374       1455      6    281          53     1455   \n",
       "unique          5          5          3      3      4           4        9   \n",
       "top            TA         TA          Y     Fa  MnPrv        Shed       WD   \n",
       "freq         1306       1321       1335      2    157          48     1266   \n",
       "\n",
       "       SaleCondition  \n",
       "count           1455  \n",
       "unique             6  \n",
       "top           Normal  \n",
       "freq            1196  \n",
       "\n",
       "[4 rows x 43 columns]"
      ]
     },
     "execution_count": 24,
     "metadata": {},
     "output_type": "execute_result"
    }
   ],
   "source": [
    "categorical.describe()"
   ]
  },
  {
   "cell_type": "code",
   "execution_count": 26,
   "metadata": {},
   "outputs": [
    {
     "name": "stdout",
     "output_type": "stream",
     "text": [
      "1    1450\n",
      "0       5\n",
      "Name: En_Street, dtype: int64\n"
     ]
    }
   ],
   "source": [
    "train['En_Street']=pd.get_dummies(train.Street,drop_first=True)\n",
    "test['En_Street']=pd.get_dummies(test.Street,drop_first=True)\n",
    "print(train.En_Street.value_counts())\n"
   ]
  },
  {
   "cell_type": "code",
   "execution_count": 28,
   "metadata": {},
   "outputs": [
    {
     "data": {
      "text/plain": [
       "<matplotlib.axes._subplots.AxesSubplot at 0x7ff4d3f77b38>"
      ]
     },
     "execution_count": 28,
     "metadata": {},
     "output_type": "execute_result"
    },
    {
     "data": {
      "image/png": "[encoded data removed]",
      "text/plain": [
       "<Figure size 720x576 with 1 Axes>"
      ]
     },
     "metadata": {},
     "output_type": "display_data"
    }
   ],
   "source": [
    "condition_pivot=train.pivot_table(index='SaleCondition',values='SalePrice',aggfunc=np.median)\n",
    "condition_pivot.plot(kind='bar',color='blue')"
   ]
  },
  {
   "cell_type": "code",
   "execution_count": 29,
   "metadata": {},
   "outputs": [],
   "source": [
    "def encode(x): return 1 if x=='Partial' else 0\n",
    "\n",
    "train['en_condtion']=train.SaleCondition.apply(encode)\n",
    "test['en_condtion']=test.SaleCondition.apply(encode)"
   ]
  },
  {
   "cell_type": "code",
   "execution_count": 30,
   "metadata": {},
   "outputs": [],
   "source": [
    "data=train.select_dtypes(include=[np.number]).interpolate().dropna()"
   ]
  },
  {
   "cell_type": "code",
   "execution_count": 31,
   "metadata": {},
   "outputs": [],
   "source": [
    "y=np.log(train.SalePrice)\n",
    "x=data.drop(['SalePrice','Id'],axis=1)"
   ]
  },
  {
   "cell_type": "code",
   "execution_count": 38,
   "metadata": {},
   "outputs": [],
   "source": [
    "from sklearn.model_selection import train_test_split\n",
    "\n",
    "x_train,x_test,y_train,y_test=train_test_split(x,y,test_size=0.33)"
   ]
  },
  {
   "cell_type": "code",
   "execution_count": 42,
   "metadata": {},
   "outputs": [],
   "source": [
    "from sklearn.linear_model import LinearRegression\n",
    "lr=LinearRegression()\n"
   ]
  },
  {
   "cell_type": "code",
   "execution_count": 43,
   "metadata": {},
   "outputs": [
    {
     "name": "stdout",
     "output_type": "stream",
     "text": [
      "R^2 is :\n",
      " 0.858287675980267\n"
     ]
    }
   ],
   "source": [
    "model=lr.fit(x_train,y_train)\n",
    "print(\"R^2 is :\\n\",model.score(x_test,y_test))\n"
   ]
  },
  {
   "cell_type": "code",
   "execution_count": 44,
   "metadata": {},
   "outputs": [],
   "source": [
    "prediction=model.predict(x_test)"
   ]
  },
  {
   "cell_type": "code",
   "execution_count": 52,
   "metadata": {},
   "outputs": [
    {
     "name": "stdout",
     "output_type": "stream",
     "text": [
      "RMSE is :\n",
      " 0.019619585831350796\n"
     ]
    }
   ],
   "source": [
    "from sklearn.metrics import mean_squared_error\n",
    "print(\"RMSE is :\\n\",mean_squared_error(y_test,prediction))"
   ]
  },
  {
   "cell_type": "code",
   "execution_count": 53,
   "metadata": {},
   "outputs": [],
   "source": [
    "actual_values=y_test"
   ]
  },
  {
   "cell_type": "code",
   "execution_count": 54,
   "metadata": {},
   "outputs": [
    {
     "data": {
      "text/plain": [
       "<matplotlib.collections.PathCollection at 0x7ff4d4404630>"
      ]
     },
     "execution_count": 54,
     "metadata": {},
     "output_type": "execute_result"
    },
    {
     "data": {
      "image/png": "[encoded data removed]",
      "text/plain": [
       "<Figure size 720x576 with 1 Axes>"
      ]
     },
     "metadata": {},
     "output_type": "display_data"
    }
   ],
   "source": [
    "plt.scatter(prediction,actual_values,alpha=0.75,color='b')\n",
    "plt.xlabel(\"Predicted_values\")\n",
    "plt.ylabel(\"Actual_Values\")\n",
    "plt.title(\"Linear regression model\")"
   ]
  },
  {
   "cell_type": "code",
   "execution_count": null,
   "metadata": {},
   "outputs": [],
   "source": []
  }
 ],
 "metadata": {
  "kernelspec": {
   "display_name": "Python 3",
   "language": "python",
   "name": "python3"
  },
  "language_info": {
   "codemirror_mode": {
    "name": "ipython",
    "version": 3
   },
   "file_extension": ".py",
   "mimetype": "text/x-python",
   "name": "python",
   "nbconvert_exporter": "python",
   "pygments_lexer": "ipython3",
   "version": "3.7.3"
  }
 },
 "nbformat": 4,
 "nbformat_minor": 2
}
